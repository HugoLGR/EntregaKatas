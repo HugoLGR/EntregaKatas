{
 "cells": [
  {
   "cell_type": "code",
   "execution_count": 5,
   "metadata": {},
   "outputs": [
    {
     "name": "stdout",
     "output_type": "stream",
     "text": [
      "Jupiter tiene una distancia del sol de: 778547200\n",
      "La Tierra tiene una distancia del sol de: 149597870\n",
      "La distancia entre ambos planetas en kilometros es de: 628949330\n",
      "La distancia entre ambos planetas en millas es de: 390577533.93\n"
     ]
    }
   ],
   "source": [
    "#Distancia entre sol y planetas\n",
    "jupiter = 778547200\n",
    "tierra = 149597870\n",
    "\n",
    "print('Jupiter tiene una distancia del sol de: ' + str(jupiter))\n",
    "print ('La Tierra tiene una distancia del sol de: ' + str(tierra))\n",
    "\n",
    "#Distancia entre planetas\n",
    "entre_planetas = jupiter - tierra\n",
    "print ('La distancia entre ambos planetas en kilometros es de: ' + str(entre_planetas))\n",
    "print ('La distancia entre ambos planetas en millas es de: ' + str(entre_planetas*.621))"
   ]
  },
  {
   "cell_type": "markdown",
   "metadata": {},
   "source": [
    "##Ejercicio 2: Convierte cadenas en números y usa valores absolutos"
   ]
  },
  {
   "cell_type": "code",
   "execution_count": 15,
   "metadata": {},
   "outputs": [
    {
     "name": "stdout",
     "output_type": "stream",
     "text": [
      "La distancia entre planetas en kilometros es de 40Km\n",
      "La distancia entre planetas en millas es de 24.96\n"
     ]
    }
   ],
   "source": [
    "#Datos de entrada de un usuario\n",
    "planeta1, planeta2 = int(input(\"¿Qué distancia tiene tu primer planeta del sol?\")),int(input(\"¿Qué distancia tiene tu segundo planeta del sol?\"))\n",
    "\n",
    "distancia = planeta1 - planeta2\n",
    "\n",
    "print(\"La distancia entre planetas en kilometros es de \" + str(abs(distancia)) + \"Km\")\n",
    "\n",
    "millas = distancia * .624\n",
    "\n",
    "print(\"La distancia entre planetas en millas es de \" + str(abs(millas)))\n"
   ]
  }
 ],
 "metadata": {
  "interpreter": {
   "hash": "3c39cbaabe4d34cf3cbe6f22960d2fd4dcd8d13a77af3d892f967ef9c9abbb0b"
  },
  "kernelspec": {
   "display_name": "Python 3.10.2 64-bit",
   "language": "python",
   "name": "python3"
  },
  "language_info": {
   "codemirror_mode": {
    "name": "ipython",
    "version": 3
   },
   "file_extension": ".py",
   "mimetype": "text/x-python",
   "name": "python",
   "nbconvert_exporter": "python",
   "pygments_lexer": "ipython3",
   "version": "3.10.2"
  },
  "orig_nbformat": 4
 },
 "nbformat": 4,
 "nbformat_minor": 2
}
