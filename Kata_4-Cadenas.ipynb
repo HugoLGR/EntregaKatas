{
 "cells": [
  {
   "cell_type": "markdown",
   "metadata": {},
   "source": [
    "##Ejercicio 1: Transformar Cadenas"
   ]
  },
  {
   "cell_type": "code",
   "execution_count": null,
   "metadata": {},
   "outputs": [],
   "source": [
    "#Texto con el que se va a trabajar\n",
    "text = \"\"\"Interesting facts about the Moon. The Moon is Earth's only satellite. There are several interesting facts about the Moon and how it affects life here on Earth. \n",
    "On average, the Moon moves 4cm away from the Earth every year. This yearly drift is not significant enough to cause immediate effects on Earth. The highest daylight temperature of the Moon is 127 C.\"\"\"\n",
    "\n",
    "#Se limpia y estandariza a minusculas\n",
    "text2 = text.replace(\",\", \"\")\n",
    "text3 = text2.replace(\".\", \"\")\n",
    "\n",
    "#split the text\n",
    "\n",
    "t2 = text3.split()\n",
    "\n",
    "#encontrando datos sobre la luna\n",
    "print('moon_fact average is '  + str(t2.count('average')) + ' times')\n",
    "print('moon_fact temperature is  ' + str(t2.count('temperature')) + ' times')\n",
    "print('moon_fact distance is ' + str(t2.count('distance')) + ' times')\n",
    "\n",
    "#Bucle para encontrar datos numericos en el texto\n",
    "myList = ['average', 'temperature', 'distance']\n",
    "matches= [x for x in myList if x in t2]\n",
    "print(matches)\n",
    "\n",
    "#Bucle para cambiar c a Celsius\n",
    "text3.replace('C','celsius')\n",
    "\n",
    "\n"
   ]
  },
  {
   "cell_type": "markdown",
   "metadata": {},
   "source": [
    "##Ejercicio 2: Formateando Cadenas"
   ]
  },
  {
   "cell_type": "code",
   "execution_count": 81,
   "metadata": {},
   "outputs": [
    {
     "name": "stdout",
     "output_type": "stream",
     "text": [
      "Gravity Facts about Moon\n",
      "-------------------------------------------------------------------------------\n",
      "Planet Name: Earth\n",
      "Gravity on Moon: 1.62 m/s2\n"
     ]
    }
   ],
   "source": [
    "#Datos\n",
    "name = \"Moon\"\n",
    "gravity = 0.00162 # in kms\n",
    "planet = \"Earth\"\n",
    "\n",
    "#Plantilla\n",
    "plantilla = \"\"\"Gravity Facts about {name}\n",
    "-------------------------------------------------------------------------------\n",
    "Planet Name: {planet}\n",
    "Gravity on {name}: {gravity} m/s2\"\"\".format(name=name , gravity = round(gravity*1000,2), planet = planet)\n",
    "\n",
    "#Resultado\n",
    "print(plantilla)"
   ]
  },
  {
   "cell_type": "markdown",
   "metadata": {},
   "source": [
    "##Ejercicio 2.1"
   ]
  },
  {
   "cell_type": "code",
   "execution_count": 83,
   "metadata": {},
   "outputs": [
    {
     "name": "stdout",
     "output_type": "stream",
     "text": [
      "Gravity Facts about Ganímedes\n",
      "-------------------------------------------------------------------------------\n",
      "Planet Name: Marte\n",
      "Gravity on Ganímedes: 1.43 m/s2\n"
     ]
    }
   ],
   "source": [
    "#Datos\n",
    "planet = 'Marte'\n",
    "gravity  = 0.00143\n",
    "name = 'Ganímedes'\n",
    "\n",
    "#Plantilla\n",
    "plantilla = \"\"\"Gravity Facts about {name}\n",
    "-------------------------------------------------------------------------------\n",
    "Planet Name: {planet}\n",
    "Gravity on {name}: {gravity} m/s2\"\"\".format(name=name , gravity = round(gravity*1000,2), planet = planet)\n",
    "\n",
    "#Resultado\n",
    "print(plantilla)"
   ]
  }
 ],
 "metadata": {
  "interpreter": {
   "hash": "3c39cbaabe4d34cf3cbe6f22960d2fd4dcd8d13a77af3d892f967ef9c9abbb0b"
  },
  "kernelspec": {
   "display_name": "Python 3.10.2 64-bit",
   "language": "python",
   "name": "python3"
  },
  "language_info": {
   "codemirror_mode": {
    "name": "ipython",
    "version": 3
   },
   "file_extension": ".py",
   "mimetype": "text/x-python",
   "name": "python",
   "nbconvert_exporter": "python",
   "pygments_lexer": "ipython3",
   "version": "3.10.2"
  },
  "orig_nbformat": 4
 },
 "nbformat": 4,
 "nbformat_minor": 2
}
