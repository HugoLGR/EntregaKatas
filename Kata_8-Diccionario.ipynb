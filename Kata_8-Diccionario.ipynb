{
 "cells": [
  {
   "cell_type": "code",
   "execution_count": null,
   "metadata": {},
   "outputs": [],
   "source": [
    "planet = {\n",
    "    'name': 'Mars',\n",
    "    'noPlanet': 4,\n",
    "    'moons': 2\n",
    "}\n",
    "print(planet)\n",
    "\n",
    "planet[\"polar\"] = 6752\n",
    "planet[\"equatorial\"] = 6792\n",
    "\n",
    "[planet]"
   ]
  },
  {
   "cell_type": "code",
   "execution_count": 26,
   "metadata": {},
   "outputs": [
    {
     "name": "stdout",
     "output_type": "stream",
     "text": [
      "El total de planetas en el sistema solar es de: 12\n",
      "El total de lunas en el sistema solar es de: 214\n",
      "El promedio de lunas en el sistema solar es de: 17.8\n"
     ]
    }
   ],
   "source": [
    "planets = 0\n",
    "moons = 0\n",
    "total_moons = 0\n",
    "\n",
    "planet_moons = {\n",
    "    'mercury': 0,\n",
    "    'venus': 0,\n",
    "    'earth': 1,\n",
    "    'mars': 2,\n",
    "    'jupiter': 79,\n",
    "    'saturn': 82,\n",
    "    'uranus': 27,\n",
    "    'neptune': 14,\n",
    "    'pluto': 5,\n",
    "    'haumea': 2,\n",
    "    'makemake': 1,\n",
    "    'eris': 1\n",
    "}\n",
    "planets = len(planet_moons.keys())\n",
    "moons = planet_moons.values()\n",
    "\n",
    "print(\"El total de planetas en el sistema solar es de: \" + str(planets))\n",
    "\n",
    "for moon in moons:\n",
    "    total_moons = total_moons + moon\n",
    "print(\"El total de lunas en el sistema solar es de: \" + str(total_moons))\n",
    "\n",
    "average_moons = total_moons/planets\n",
    "print(\"El promedio de lunas en el sistema solar es de: \" + str(round(average_moons,1)))"
   ]
  }
 ],
 "metadata": {
  "interpreter": {
   "hash": "3c39cbaabe4d34cf3cbe6f22960d2fd4dcd8d13a77af3d892f967ef9c9abbb0b"
  },
  "kernelspec": {
   "display_name": "Python 3.10.2 64-bit",
   "language": "python",
   "name": "python3"
  },
  "language_info": {
   "codemirror_mode": {
    "name": "ipython",
    "version": 3
   },
   "file_extension": ".py",
   "mimetype": "text/x-python",
   "name": "python",
   "nbconvert_exporter": "python",
   "pygments_lexer": "ipython3",
   "version": "3.10.2"
  },
  "orig_nbformat": 4
 },
 "nbformat": 4,
 "nbformat_minor": 2
}
