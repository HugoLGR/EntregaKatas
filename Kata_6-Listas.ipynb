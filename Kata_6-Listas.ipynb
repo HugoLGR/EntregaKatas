{
 "cells": [
  {
   "cell_type": "markdown",
   "metadata": {},
   "source": [
    "##Crear y usar listas de Python"
   ]
  },
  {
   "cell_type": "code",
   "execution_count": 26,
   "metadata": {},
   "outputs": [
    {
     "name": "stdout",
     "output_type": "stream",
     "text": [
      "['Mercurio', 'Venus', 'Tierra', 'Marte', 'Jupiter', 'Saturno', 'Urano', 'Neptuno', 'Plutón']\n",
      "Tu planeta es el numero 9\n",
      "entre tu planeta y el sol se encuentra: ['Mercurio', 'Venus', 'Tierra', 'Marte', 'Jupiter', 'Saturno', 'Urano', 'Neptuno']\n"
     ]
    }
   ],
   "source": [
    "#Crear una lista de planetas\n",
    "Planetas = ['Mercurio', 'Venus', 'Tierra', 'Marte', 'Jupiter', 'Saturno', 'Urano', 'Neptuno']\n",
    "\n",
    "#Agregar Plutón a la lista\n",
    "Planetas.append('Plutón')\n",
    "print(Planetas)\n",
    "\n",
    "#Buscando planetas\n",
    "busqueda = input(\"¿Qué planeta desea buscar? (ej: \"\"Tierra\"\")\")\n",
    "print(\"Tu planeta es el numero \" + str(Planetas.index(busqueda) + 1))\n",
    "i = Planetas.index(busqueda)\n",
    "\n",
    "print(\"entre tu planeta y el sol se encuentra: \"+ str(Planetas[0:i]))\n"
   ]
  }
 ],
 "metadata": {
  "interpreter": {
   "hash": "3c39cbaabe4d34cf3cbe6f22960d2fd4dcd8d13a77af3d892f967ef9c9abbb0b"
  },
  "kernelspec": {
   "display_name": "Python 3.10.2 64-bit",
   "language": "python",
   "name": "python3"
  },
  "language_info": {
   "codemirror_mode": {
    "name": "ipython",
    "version": 3
   },
   "file_extension": ".py",
   "mimetype": "text/x-python",
   "name": "python",
   "nbconvert_exporter": "python",
   "pygments_lexer": "ipython3",
   "version": "3.10.2"
  },
  "orig_nbformat": 4
 },
 "nbformat": 4,
 "nbformat_minor": 2
}
