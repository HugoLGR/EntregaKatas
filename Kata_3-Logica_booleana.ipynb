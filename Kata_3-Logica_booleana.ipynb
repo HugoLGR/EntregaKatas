{
 "cells": [
  {
   "cell_type": "markdown",
   "metadata": {},
   "source": [
    "#Preuba de lógica sin impresión"
   ]
  },
  {
   "cell_type": "code",
   "execution_count": 2,
   "metadata": {},
   "outputs": [],
   "source": [
    "a = 97\n",
    "b = 55\n",
    "if a < b:\n",
    "    print(b)"
   ]
  },
  {
   "cell_type": "markdown",
   "metadata": {},
   "source": [
    "#Prueba de lógica con impresión"
   ]
  },
  {
   "cell_type": "code",
   "execution_count": 3,
   "metadata": {},
   "outputs": [
    {
     "name": "stdout",
     "output_type": "stream",
     "text": [
      "93\n"
     ]
    }
   ],
   "source": [
    "a = 93\n",
    "b = 27\n",
    "if a >= b:\n",
    "    print(a)"
   ]
  },
  {
   "cell_type": "markdown",
   "metadata": {},
   "source": [
    "#Instrucciones if con y sin sangría "
   ]
  },
  {
   "cell_type": "code",
   "execution_count": 1,
   "metadata": {},
   "outputs": [
    {
     "name": "stdout",
     "output_type": "stream",
     "text": [
      "24\n",
      "44\n"
     ]
    }
   ],
   "source": [
    "a = 24\n",
    "b = 44\n",
    "if a <= 0:\n",
    "    print(a)\n",
    "print(b)"
   ]
  },
  {
   "cell_type": "markdown",
   "metadata": {},
   "source": [
    "#Ejercicio Asteroide\n",
    "\n",
    "-Velocidad superior a 25km/s debe emitir una alerta\n",
    "\n",
    "-Velocidad menor de 25km/s y mayor o igual a 20km/s emitir alerta de luces en el cielo"
   ]
  },
  {
   "cell_type": "code",
   "execution_count": 20,
   "metadata": {},
   "outputs": [
    {
     "name": "stdout",
     "output_type": "stream",
     "text": [
      "¡Alerta! Asteroide viajando muy veloz\n"
     ]
    }
   ],
   "source": [
    "a = 49\n",
    "\n",
    "if a > 25:\n",
    "    print(\"¡Alerta! Un asteroide viajando muy veloz se aproxima a la tierra\")\n",
    "else:\n",
    "    print(\"Todo tranquilo\")\n"
   ]
  },
  {
   "cell_type": "code",
   "execution_count": 19,
   "metadata": {},
   "outputs": [
    {
     "name": "stdout",
     "output_type": "stream",
     "text": [
      "Todo tranquilo\n"
     ]
    }
   ],
   "source": [
    "a = 19\n",
    "\n",
    "if a > 25:\n",
    "    print(\"¡Alerta! Un asteroide viajando muy veloz se aproxima a la tierra\")\n",
    "elif a >= 20:\n",
    "    print(\"¡Se aproxima un asteroide que no es peligroso y puede mostrar luces en el cielo!\")\n",
    "else:\n",
    "    print(\"Todo tranquilo\")"
   ]
  },
  {
   "cell_type": "markdown",
   "metadata": {},
   "source": [
    "##Uso de operadores and y or"
   ]
  },
  {
   "cell_type": "code",
   "execution_count": 40,
   "metadata": {},
   "outputs": [
    {
     "name": "stdout",
     "output_type": "stream",
     "text": [
      "Todo tranquilo\n"
     ]
    }
   ],
   "source": [
    "velocidad = 19\n",
    "diametro = 19\n",
    "if velocidad <= 25 and diametro > 25:\n",
    "    print(\"¡Alerta! Un asteroide muy grande se aproxima a la tierra\")\n",
    "elif velocidad > 25 and diametro <= 25:\n",
    "    print(\"¡Alerta! Un asteroide muy veloz se aproxima a la tierra\")\n",
    "elif velocidad > 25 and diametro > 25:\n",
    "    print(\"¡Alerta! Un asteroide peligroso se aproxima a la tierra\")\n",
    "elif velocidad >= 20 or diametro >=20:\n",
    "    print(\"¡Se aproxima un asteroide que no es peligroso y puede mostrar luces en el cielo!\")\n",
    "else:\n",
    "    print(\"Todo tranquilo\")"
   ]
  }
 ],
 "metadata": {
  "interpreter": {
   "hash": "3c39cbaabe4d34cf3cbe6f22960d2fd4dcd8d13a77af3d892f967ef9c9abbb0b"
  },
  "kernelspec": {
   "display_name": "Python 3.10.2 64-bit",
   "language": "python",
   "name": "python3"
  },
  "language_info": {
   "codemirror_mode": {
    "name": "ipython",
    "version": 3
   },
   "file_extension": ".py",
   "mimetype": "text/x-python",
   "name": "python",
   "nbconvert_exporter": "python",
   "pygments_lexer": "ipython3",
   "version": "3.10.2"
  },
  "orig_nbformat": 4
 },
 "nbformat": 4,
 "nbformat_minor": 2
}
