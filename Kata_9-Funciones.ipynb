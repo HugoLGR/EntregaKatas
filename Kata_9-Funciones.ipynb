{
 "cells": [
  {
   "cell_type": "code",
   "execution_count": 18,
   "metadata": {},
   "outputs": [],
   "source": [
    "def tank_avg(*tanks):\n",
    "    if tanks:\n",
    "        average_tanks =  sum(tanks) / len(tanks)\n",
    "        return f'The average of the tanks is {average_tanks}'\n",
    "    else:\n",
    "        return f'Tanks are empty'"
   ]
  },
  {
   "cell_type": "code",
   "execution_count": 22,
   "metadata": {},
   "outputs": [
    {
     "data": {
      "text/plain": [
       "'Tanks are empty'"
      ]
     },
     "execution_count": 22,
     "metadata": {},
     "output_type": "execute_result"
    }
   ],
   "source": [
    "tank_avg()"
   ]
  },
  {
   "cell_type": "code",
   "execution_count": 21,
   "metadata": {},
   "outputs": [
    {
     "data": {
      "text/plain": [
       "'The average of the tanks is 15.0'"
      ]
     },
     "execution_count": 21,
     "metadata": {},
     "output_type": "execute_result"
    }
   ],
   "source": [
    "tank_avg(12,14,16,18)"
   ]
  },
  {
   "cell_type": "code",
   "execution_count": 58,
   "metadata": {},
   "outputs": [
    {
     "data": {
      "text/plain": [
       "'Hora de prelanzamiento:18:30\\n    Tiempo de vuelo estimado:6 horas\\n    Nuestro destino:Luna\\n    Reservas exteriores:500000lts\\n    Reservas interiores:1000000ls'"
      ]
     },
     "execution_count": 58,
     "metadata": {},
     "output_type": "execute_result"
    }
   ],
   "source": [
    "def Mission_aplhpa(Prelanzamiento, Tiempo_Vuelo, Destino, Tanq_ext, Tanq_int):\n",
    "    if Mission_aplhpa:\n",
    "        return f\"\"\"Hora de prelanzamiento:{Prelanzamiento}\n",
    "    Tiempo de vuelo estimado:{Tiempo_Vuelo}\n",
    "    Nuestro destino:{Destino}\n",
    "    Reservas exteriores:{Tanq_ext}\n",
    "    Reservas interiores:{Tanq_int}\"\"\"\n",
    "    else:\n",
    "        print(\"No hay datos de la misión\")\n",
    "        \n",
    "Mission_aplhpa(Prelanzamiento='18:30', Tiempo_Vuelo='6 horas', Destino='Luna',Tanq_ext='500000lts', Tanq_int='1000000ls')\n",
    "    "
   ]
  },
  {
   "cell_type": "code",
   "execution_count": 46,
   "metadata": {},
   "outputs": [
    {
     "data": {
      "text/plain": [
       "'Hora de prelanzamiento:18:30\\n    Tiempo de vuelo estimado:6 horas\\n    Nuestro destino:Luna\\n    Reservas exteriores:500000lts\\n    Reservas interiores:1000000ls'"
      ]
     },
     "execution_count": 46,
     "metadata": {},
     "output_type": "execute_result"
    }
   ],
   "source": [
    "Mission_aplhpa(Prelanzamiento='18:30', Tiempo_Vuelo='6 horas', Destino='Luna',Tanq_ext='500000lts', Tanq_int='1000000ls')"
   ]
  },
  {
   "cell_type": "code",
   "execution_count": 63,
   "metadata": {},
   "outputs": [
    {
     "data": {
      "text/plain": [
       "\"Tiempo de vuelo estimado:19 'hrs\\n    Nuestro destino:Luna\\n    Reservas Totales:15000\""
      ]
     },
     "execution_count": 63,
     "metadata": {},
     "output_type": "execute_result"
    }
   ],
   "source": [
    "def Mission_aplhpa(Destino,*Tiempo_Vuelo,**Reservas):\n",
    "    if Mission_aplhpa:\n",
    "        return f\"\"\"Tiempo de vuelo estimado:{sum(Tiempo_Vuelo)} 'hrs\n",
    "    Nuestro destino:{Destino}\n",
    "    Reservas Totales:{sum(Reservas.values())}\"\"\"\n",
    "    else:\n",
    "        print(\"No hay datos de la misión\")\n",
    "    \n",
    "Mission_aplhpa(\"Luna\",11,3,4,1,Tanq_ext=5000, Tanq_int=10000)"
   ]
  },
  {
   "cell_type": "code",
   "execution_count": 69,
   "metadata": {},
   "outputs": [
    {
     "name": "stdout",
     "output_type": "stream",
     "text": [
      "Tiempo de vuelo estimado:19 'hrs\n",
      "    Nuestro destino:Luna\n",
      "    Reservas Totales:15000Tanq_ext tanque -->  5000 galones de sobra\n"
     ]
    }
   ],
   "source": [
    "def Mission_aplhpa(Destino,*Tiempo_Vuelo,**Reservas):\n",
    "    Reporte = f\"\"\"Tiempo de vuelo estimado:{sum(Tiempo_Vuelo)} 'hrs\n",
    "    Nuestro destino:{Destino}\n",
    "    Reservas Totales:{sum(Reservas.values())}\"\"\"\n",
    "    \n",
    "    for tanque, galones in Reservas.items():\n",
    "        Reporte += f'{tanque} tanque -->  {galones} galones de sobra'\n",
    "        return Reporte\n",
    "    else:\n",
    "        print(\"No hay datos de la misión\")\n",
    "    \n",
    "print(Mission_aplhpa(\"Luna\",11,3,4,1,Tanq_ext=5000, Tanq_int=10000))"
   ]
  }
 ],
 "metadata": {
  "interpreter": {
   "hash": "3c39cbaabe4d34cf3cbe6f22960d2fd4dcd8d13a77af3d892f967ef9c9abbb0b"
  },
  "kernelspec": {
   "display_name": "Python 3.10.2 64-bit",
   "language": "python",
   "name": "python3"
  },
  "language_info": {
   "codemirror_mode": {
    "name": "ipython",
    "version": 3
   },
   "file_extension": ".py",
   "mimetype": "text/x-python",
   "name": "python",
   "nbconvert_exporter": "python",
   "pygments_lexer": "ipython3",
   "version": "3.10.2"
  },
  "orig_nbformat": 4
 },
 "nbformat": 4,
 "nbformat_minor": 2
}
