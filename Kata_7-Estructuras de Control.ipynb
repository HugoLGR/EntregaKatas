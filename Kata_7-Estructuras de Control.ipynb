{
 "cells": [
  {
   "cell_type": "code",
   "execution_count": null,
   "metadata": {},
   "outputs": [],
   "source": [
    "from time import sleep"
   ]
  },
  {
   "cell_type": "code",
   "execution_count": null,
   "metadata": {},
   "outputs": [],
   "source": [
    "#Variable que almacena datos del usaurio\n",
    "new_planet = ''\n",
    "\n",
    "#Lista que almacenara los datos que el usuario ingrese\n",
    "planets = []\n",
    "\n",
    "#Ciclo while\n",
    "while new_planet.lower() != 'done':\n",
    "    #Verifica que haya valores\n",
    "    if new_planet:\n",
    "        #Almacena valor en la lista\n",
    "        planets.append(new_planet)\n",
    "    #Capturamos nuevo valor\n",
    "    new_planet = input('Escribe el nombre de los planetas en orden, o escribe \"done\" para terminar')"
   ]
  },
  {
   "cell_type": "code",
   "execution_count": null,
   "metadata": {},
   "outputs": [],
   "source": [
    "    for planet in planets:\n",
    "        print(planet)"
   ]
  }
 ],
 "metadata": {
  "interpreter": {
   "hash": "3c39cbaabe4d34cf3cbe6f22960d2fd4dcd8d13a77af3d892f967ef9c9abbb0b"
  },
  "kernelspec": {
   "display_name": "Python 3.10.2 64-bit",
   "language": "python",
   "name": "python3"
  },
  "language_info": {
   "codemirror_mode": {
    "name": "ipython",
    "version": 3
   },
   "file_extension": ".py",
   "mimetype": "text/x-python",
   "name": "python",
   "nbconvert_exporter": "python",
   "pygments_lexer": "ipython3",
   "version": "3.10.2"
  },
  "orig_nbformat": 4
 },
 "nbformat": 4,
 "nbformat_minor": 2
}
